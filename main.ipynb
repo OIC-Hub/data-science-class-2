{
 "cells": [
  {
   "cell_type": "code",
   "execution_count": 2,
   "id": "da5b10f9-519a-4162-87de-d1e92bcb3920",
   "metadata": {},
   "outputs": [],
   "source": [
    "#import libraries\n",
    "import numpy as np"
   ]
  },
  {
   "cell_type": "code",
   "execution_count": 4,
   "id": "082bfa4e-3df8-4c5f-b5e8-93e9446faec2",
   "metadata": {},
   "outputs": [
    {
     "name": "stdout",
     "output_type": "stream",
     "text": [
      "[10 20 30 40 50]\n",
      "\n",
      "Average number 30.0\n"
     ]
    }
   ],
   "source": [
    "arr = np.array([10, 20, 30, 40, 50])\n",
    "\n",
    "print(arr)\n",
    "print(\"\\nAverage number\", arr.mean())"
   ]
  },
  {
   "cell_type": "code",
   "execution_count": null,
   "id": "162f6c86-d4b4-4a58-b722-36c2af5d9a52",
   "metadata": {},
   "outputs": [],
   "source": []
  }
 ],
 "metadata": {
  "kernelspec": {
   "display_name": "Python 3 (ipykernel)",
   "language": "python",
   "name": "python3"
  },
  "language_info": {
   "codemirror_mode": {
    "name": "ipython",
    "version": 3
   },
   "file_extension": ".py",
   "mimetype": "text/x-python",
   "name": "python",
   "nbconvert_exporter": "python",
   "pygments_lexer": "ipython3",
   "version": "3.10.9"
  }
 },
 "nbformat": 4,
 "nbformat_minor": 5
}
