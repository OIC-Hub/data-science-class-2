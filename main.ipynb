{
 "cells": [
  {
   "cell_type": "code",
   "execution_count": 10,
   "id": "da5b10f9-519a-4162-87de-d1e92bcb3920",
   "metadata": {},
   "outputs": [],
   "source": [
    "#import libraries\n",
    "import numpy as np\n",
    "import pandas as pd"
   ]
  },
  {
   "cell_type": "code",
   "execution_count": 2,
   "id": "082bfa4e-3df8-4c5f-b5e8-93e9446faec2",
   "metadata": {},
   "outputs": [
    {
     "name": "stdout",
     "output_type": "stream",
     "text": [
      "[10 20 30 40 50]\n",
      "\n",
      "Average number 30.0\n"
     ]
    }
   ],
   "source": [
    "arr = np.array([10, 20, 30, 40, 50])\n",
    "\n",
    "print(arr)\n",
    "print(\"\\nAverage number\", arr.mean())"
   ]
  },
  {
   "cell_type": "code",
   "execution_count": 3,
   "id": "162f6c86-d4b4-4a58-b722-36c2af5d9a52",
   "metadata": {},
   "outputs": [
    {
     "name": "stdout",
     "output_type": "stream",
     "text": [
      "40\n",
      "50\n"
     ]
    }
   ],
   "source": [
    "#indexing\n",
    "print(arr[3])\n",
    "print(arr[-1])\n"
   ]
  },
  {
   "cell_type": "code",
   "execution_count": 4,
   "id": "b349dd5e-c40d-4386-b6b6-a7ba9f939608",
   "metadata": {},
   "outputs": [
    {
     "name": "stdout",
     "output_type": "stream",
     "text": [
      "[20 30 40]\n",
      "[10 30 50]\n",
      "[10 20 30 40 50]\n",
      "[]\n",
      "[10 20 30 40 50]\n"
     ]
    }
   ],
   "source": [
    "#slicing\n",
    "print(arr[1:4])\n",
    "print(arr[::2])\n",
    "print(arr[:7])\n",
    "print(arr[-1:-4])\n",
    "print(arr[:])"
   ]
  },
  {
   "cell_type": "code",
   "execution_count": 5,
   "id": "514a3711-7bc1-4b6b-abc4-724b1d0fafac",
   "metadata": {},
   "outputs": [
    {
     "name": "stdout",
     "output_type": "stream",
     "text": [
      "2\n",
      "[2 5 8]\n",
      "[4 5 6]\n",
      "[7 8]\n"
     ]
    }
   ],
   "source": [
    "#2D indexing\n",
    "matrix = np.array([\n",
    "    [1, 2, 3],\n",
    "    [4, 5, 6],\n",
    "    [7, 8, 9]\n",
    "])\n",
    "\n",
    "print(matrix[0, 1])\n",
    "print(matrix[:, 1])\n",
    "print(matrix[1, :])\n",
    "print(matrix[2, 0:2])"
   ]
  },
  {
   "cell_type": "code",
   "execution_count": 6,
   "id": "24878e3c-769b-47b2-8f07-8a8d8e2e61a0",
   "metadata": {},
   "outputs": [
    {
     "name": "stdout",
     "output_type": "stream",
     "text": [
      "Original array: [ 1  2  3  4  5  6  7  8  9 10 11 12]\n",
      "Reshaped array: [[ 1  2  3  4  5  6]\n",
      " [ 7  8  9 10 11 12]]\n",
      "Flatten: [ 1  2  3  4  5  6  7  8  9 10 11 12]\n"
     ]
    }
   ],
   "source": [
    "#changing 1D array to 2D array\n",
    "arr2 = np.arange(1, 13)\n",
    "reshape = arr2.reshape(2, 6)\n",
    "\n",
    "print(\"Original array:\", arr2)\n",
    "print(\"Reshaped array:\", reshape)\n",
    "\n",
    "#flatten to 1d array\n",
    "flatten = reshape.flatten()\n",
    "print(\"Flatten:\", flatten)"
   ]
  },
  {
   "cell_type": "code",
   "execution_count": 7,
   "id": "aac42a73-ee89-4a35-b6ee-fc4a2391f3e3",
   "metadata": {},
   "outputs": [
    {
     "name": "stdout",
     "output_type": "stream",
     "text": [
      "[11 22 33 44 55]\n",
      "[ -9 -18 -27 -36 -45]\n",
      "[ 10  40  90 160 250]\n",
      "[0.1 0.1 0.1 0.1 0.1]\n",
      "Scelar operator\n",
      "\n",
      "[ 100  400  900 1600 2500]\n",
      "[ 5. 10. 15. 20. 25.]\n"
     ]
    }
   ],
   "source": [
    "#working with mathematical operation on array\n",
    "arr3 = np.array([1, 2, 3, 4, 5])\n",
    "arr4 = np.array([10, 20, 30, 40, 50])\n",
    "\n",
    "#basic math operators\n",
    "print(arr3 + arr4)\n",
    "print(arr3 - arr4)\n",
    "print(arr3 * arr4)\n",
    "print(arr3 / arr4)\n",
    "\n",
    "#scaler operator\n",
    "print(\"Scelar operator\\n\")\n",
    "print(arr4**2)\n",
    "print(arr4 / 2)"
   ]
  },
  {
   "cell_type": "code",
   "execution_count": 8,
   "id": "439895f4-f0f3-41dd-893e-d4b1058c837d",
   "metadata": {},
   "outputs": [
    {
     "name": "stdout",
     "output_type": "stream",
     "text": [
      "[[19 22]\n",
      " [43 50]]\n",
      "[[ 5 12]\n",
      " [21 32]]\n"
     ]
    }
   ],
   "source": [
    "#working with matrix element using (dot product)\n",
    "matrix_1 = np.array([\n",
    "    [1, 2],\n",
    "    [3, 4]\n",
    "])\n",
    "\n",
    "matrix_2 = np.array([\n",
    "    [5, 6],\n",
    "    [7, 8]\n",
    "])\n",
    "\n",
    "dot = np.dot(matrix_1, matrix_2)\n",
    "print(dot)\n",
    "\n",
    "multiply = matrix_1 * matrix_2\n",
    "print(multiply)"
   ]
  },
  {
   "cell_type": "code",
   "execution_count": 15,
   "id": "9fd6c119-8756-46bf-97ea-dbfcffb79c0b",
   "metadata": {},
   "outputs": [],
   "source": [
    "np.random.seed(42)  # for reproducibility\n",
    "days = np.arange(1, 31)\n",
    "steps = np.random.randint(3456,  12034, size=30)  "
   ]
  },
  {
   "cell_type": "code",
   "execution_count": 16,
   "id": "2bd8bc36-0c4e-467e-8a64-c464e1502581",
   "metadata": {},
   "outputs": [
    {
     "data": {
      "text/html": [
       "<div>\n",
       "<style scoped>\n",
       "    .dataframe tbody tr th:only-of-type {\n",
       "        vertical-align: middle;\n",
       "    }\n",
       "\n",
       "    .dataframe tbody tr th {\n",
       "        vertical-align: top;\n",
       "    }\n",
       "\n",
       "    .dataframe thead th {\n",
       "        text-align: right;\n",
       "    }\n",
       "</style>\n",
       "<table border=\"1\" class=\"dataframe\">\n",
       "  <thead>\n",
       "    <tr style=\"text-align: right;\">\n",
       "      <th></th>\n",
       "      <th>Day</th>\n",
       "      <th>Consumption_kWh</th>\n",
       "    </tr>\n",
       "  </thead>\n",
       "  <tbody>\n",
       "    <tr>\n",
       "      <th>0</th>\n",
       "      <td>1</td>\n",
       "      <td>10726</td>\n",
       "    </tr>\n",
       "    <tr>\n",
       "      <th>1</th>\n",
       "      <td>2</td>\n",
       "      <td>4316</td>\n",
       "    </tr>\n",
       "    <tr>\n",
       "      <th>2</th>\n",
       "      <td>3</td>\n",
       "      <td>8846</td>\n",
       "    </tr>\n",
       "    <tr>\n",
       "      <th>3</th>\n",
       "      <td>4</td>\n",
       "      <td>8647</td>\n",
       "    </tr>\n",
       "    <tr>\n",
       "      <th>4</th>\n",
       "      <td>5</td>\n",
       "      <td>9190</td>\n",
       "    </tr>\n",
       "    <tr>\n",
       "      <th>5</th>\n",
       "      <td>6</td>\n",
       "      <td>9721</td>\n",
       "    </tr>\n",
       "    <tr>\n",
       "      <th>6</th>\n",
       "      <td>7</td>\n",
       "      <td>3922</td>\n",
       "    </tr>\n",
       "    <tr>\n",
       "      <th>7</th>\n",
       "      <td>8</td>\n",
       "      <td>7882</td>\n",
       "    </tr>\n",
       "    <tr>\n",
       "      <th>8</th>\n",
       "      <td>9</td>\n",
       "      <td>9034</td>\n",
       "    </tr>\n",
       "    <tr>\n",
       "      <th>9</th>\n",
       "      <td>10</td>\n",
       "      <td>11778</td>\n",
       "    </tr>\n",
       "    <tr>\n",
       "      <th>10</th>\n",
       "      <td>11</td>\n",
       "      <td>5141</td>\n",
       "    </tr>\n",
       "    <tr>\n",
       "      <th>11</th>\n",
       "      <td>12</td>\n",
       "      <td>4225</td>\n",
       "    </tr>\n",
       "    <tr>\n",
       "      <th>12</th>\n",
       "      <td>13</td>\n",
       "      <td>10405</td>\n",
       "    </tr>\n",
       "    <tr>\n",
       "      <th>13</th>\n",
       "      <td>14</td>\n",
       "      <td>5889</td>\n",
       "    </tr>\n",
       "    <tr>\n",
       "      <th>14</th>\n",
       "      <td>15</td>\n",
       "      <td>8767</td>\n",
       "    </tr>\n",
       "    <tr>\n",
       "      <th>15</th>\n",
       "      <td>16</td>\n",
       "      <td>8507</td>\n",
       "    </tr>\n",
       "    <tr>\n",
       "      <th>16</th>\n",
       "      <td>17</td>\n",
       "      <td>9876</td>\n",
       "    </tr>\n",
       "    <tr>\n",
       "      <th>17</th>\n",
       "      <td>18</td>\n",
       "      <td>4640</td>\n",
       "    </tr>\n",
       "    <tr>\n",
       "      <th>18</th>\n",
       "      <td>19</td>\n",
       "      <td>8011</td>\n",
       "    </tr>\n",
       "    <tr>\n",
       "      <th>19</th>\n",
       "      <td>20</td>\n",
       "      <td>6841</td>\n",
       "    </tr>\n",
       "    <tr>\n",
       "      <th>20</th>\n",
       "      <td>21</td>\n",
       "      <td>9852</td>\n",
       "    </tr>\n",
       "    <tr>\n",
       "      <th>21</th>\n",
       "      <td>22</td>\n",
       "      <td>6014</td>\n",
       "    </tr>\n",
       "    <tr>\n",
       "      <th>22</th>\n",
       "      <td>23</td>\n",
       "      <td>11305</td>\n",
       "    </tr>\n",
       "    <tr>\n",
       "      <th>23</th>\n",
       "      <td>24</td>\n",
       "      <td>5503</td>\n",
       "    </tr>\n",
       "    <tr>\n",
       "      <th>24</th>\n",
       "      <td>25</td>\n",
       "      <td>6203</td>\n",
       "    </tr>\n",
       "    <tr>\n",
       "      <th>25</th>\n",
       "      <td>26</td>\n",
       "      <td>3645</td>\n",
       "    </tr>\n",
       "    <tr>\n",
       "      <th>26</th>\n",
       "      <td>27</td>\n",
       "      <td>6190</td>\n",
       "    </tr>\n",
       "    <tr>\n",
       "      <th>27</th>\n",
       "      <td>28</td>\n",
       "      <td>6461</td>\n",
       "    </tr>\n",
       "    <tr>\n",
       "      <th>28</th>\n",
       "      <td>29</td>\n",
       "      <td>8114</td>\n",
       "    </tr>\n",
       "    <tr>\n",
       "      <th>29</th>\n",
       "      <td>30</td>\n",
       "      <td>5355</td>\n",
       "    </tr>\n",
       "  </tbody>\n",
       "</table>\n",
       "</div>"
      ],
      "text/plain": [
       "    Day  Consumption_kWh\n",
       "0     1            10726\n",
       "1     2             4316\n",
       "2     3             8846\n",
       "3     4             8647\n",
       "4     5             9190\n",
       "5     6             9721\n",
       "6     7             3922\n",
       "7     8             7882\n",
       "8     9             9034\n",
       "9    10            11778\n",
       "10   11             5141\n",
       "11   12             4225\n",
       "12   13            10405\n",
       "13   14             5889\n",
       "14   15             8767\n",
       "15   16             8507\n",
       "16   17             9876\n",
       "17   18             4640\n",
       "18   19             8011\n",
       "19   20             6841\n",
       "20   21             9852\n",
       "21   22             6014\n",
       "22   23            11305\n",
       "23   24             5503\n",
       "24   25             6203\n",
       "25   26             3645\n",
       "26   27             6190\n",
       "27   28             6461\n",
       "28   29             8114\n",
       "29   30             5355"
      ]
     },
     "execution_count": 16,
     "metadata": {},
     "output_type": "execute_result"
    }
   ],
   "source": [
    "data = pd.DataFrame({\n",
    "    \"Day\": days,\n",
    "    \"Consumption_kWh\": steps\n",
    "})\n",
    "\n",
    "data"
   ]
  },
  {
   "cell_type": "code",
   "execution_count": 21,
   "id": "ebf64af3-71e5-4810-b057-8d6badf709c6",
   "metadata": {},
   "outputs": [],
   "source": [
    "mean_steps = np.mean(steps)\n",
    "median_steps = np.median(steps)\n",
    "min_steps = np.min(steps)\n",
    "max_steps = np.max(steps)\n",
    "std_steps = np.std(steps)"
   ]
  },
  {
   "cell_type": "code",
   "execution_count": 17,
   "id": "ad294887-1747-4707-8d3e-f396565d907f",
   "metadata": {},
   "outputs": [
    {
     "data": {
      "text/plain": [
       "array([ 1, 10, 13, 23])"
      ]
     },
     "execution_count": 17,
     "metadata": {},
     "output_type": "execute_result"
    }
   ],
   "source": [
    "goal_days = np.where(steps >= 10000)[0] + 1\n",
    "goal_days"
   ]
  },
  {
   "cell_type": "code",
   "execution_count": 18,
   "id": "cae2e473-bf3f-49c0-be6f-3adb873508b8",
   "metadata": {},
   "outputs": [],
   "source": [
    "weeks = np.array_split(steps, 4)\n",
    "weekly_totals = [week.sum() for week in weeks]\n",
    "weekly_avg = [week.mean() for week in weeks]"
   ]
  },
  {
   "cell_type": "code",
   "execution_count": 19,
   "id": "01de1f77-c5e8-4264-afb9-38615858f33e",
   "metadata": {},
   "outputs": [],
   "source": [
    "window = 7\n",
    "moving_avg = np.convolve(steps, np.ones(window)/window, mode='valid')"
   ]
  },
  {
   "cell_type": "code",
   "execution_count": 22,
   "id": "04bd2fc7-df4f-4336-9335-93887878fd5d",
   "metadata": {},
   "outputs": [],
   "source": [
    "lower_bound = mean_steps - 2*std_steps\n",
    "upper_bound = mean_steps + 2*std_steps\n",
    "anomalies = np.where((steps < lower_bound) | (steps > upper_bound))[0] + 1"
   ]
  },
  {
   "cell_type": "code",
   "execution_count": 23,
   "id": "ff8fab82-25c7-4a6e-aa8b-7d1321eb474f",
   "metadata": {},
   "outputs": [
    {
     "name": "stdout",
     "output_type": "stream",
     "text": [
      "📊 Basic Stats\n",
      "Mean: 7500.2 Median: 7946.5\n",
      "Min: 3645 Max: 11778 Std Dev: 2309.770715893679\n",
      "\n",
      "🎯 Goal Days (>=10,000 steps): [ 1 10 13 23]\n",
      "\n",
      "📅 Weekly Totals: [np.int64(63250), np.int64(63746), np.int64(56539), np.int64(41471)]\n",
      "📅 Weekly Averages: [np.float64(7906.25), np.float64(7968.25), np.float64(8077.0), np.float64(5924.428571428572)]\n",
      "\n",
      "📈 First 5 values of 7-day Moving Average: [7909.71428571 7503.42857143 8177.42857143 8596.28571429 8095.42857143]\n",
      "\n",
      "⚠️ Anomalies (Days too low/high): []\n"
     ]
    }
   ],
   "source": [
    "# Print results\n",
    "print(\"Basic Stats\")\n",
    "print(\"Mean:\", mean_steps, \"Median:\", median_steps)\n",
    "print(\"Min:\", min_steps, \"Max:\", max_steps, \"Std Dev:\", std_steps)\n",
    "\n",
    "print(\"\\nGoal Days (>=10,000 steps):\", goal_days)\n",
    "\n",
    "print(\"\\nWeekly Totals:\", weekly_totals)\n",
    "print(\"Weekly Averages:\", weekly_avg)\n",
    "\n",
    "print(\"\\nFirst 5 values of 7-day Moving Average:\", moving_avg[:5])\n",
    "\n",
    "print(\"\\nAnomalies (Days too low/high):\", anomalies)"
   ]
  },
  {
   "cell_type": "code",
   "execution_count": null,
   "id": "97202dd8-2d3a-44c3-b724-4695a4f5b5e9",
   "metadata": {},
   "outputs": [],
   "source": []
  }
 ],
 "metadata": {
  "kernelspec": {
   "display_name": "Python 3 (ipykernel)",
   "language": "python",
   "name": "python3"
  },
  "language_info": {
   "codemirror_mode": {
    "name": "ipython",
    "version": 3
   },
   "file_extension": ".py",
   "mimetype": "text/x-python",
   "name": "python",
   "nbconvert_exporter": "python",
   "pygments_lexer": "ipython3",
   "version": "3.10.9"
  }
 },
 "nbformat": 4,
 "nbformat_minor": 5
}
