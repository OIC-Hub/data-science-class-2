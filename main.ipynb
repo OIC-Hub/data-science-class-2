{
 "cells": [
  {
   "cell_type": "code",
   "execution_count": 2,
   "id": "da5b10f9-519a-4162-87de-d1e92bcb3920",
   "metadata": {},
   "outputs": [],
   "source": [
    "#import libraries\n",
    "import numpy as np"
   ]
  },
  {
   "cell_type": "code",
   "execution_count": 3,
   "id": "082bfa4e-3df8-4c5f-b5e8-93e9446faec2",
   "metadata": {},
   "outputs": [
    {
     "name": "stdout",
     "output_type": "stream",
     "text": [
      "[10 20 30 40 50]\n",
      "\n",
      "Average number 30.0\n"
     ]
    }
   ],
   "source": [
    "arr = np.array([10, 20, 30, 40, 50])\n",
    "\n",
    "print(arr)\n",
    "print(\"\\nAverage number\", arr.mean())"
   ]
  },
  {
   "cell_type": "code",
   "execution_count": 6,
   "id": "162f6c86-d4b4-4a58-b722-36c2af5d9a52",
   "metadata": {},
   "outputs": [
    {
     "name": "stdout",
     "output_type": "stream",
     "text": [
      "40\n",
      "50\n"
     ]
    }
   ],
   "source": [
    "#indexing\n",
    "print(arr[3])\n",
    "print(arr[-1])\n"
   ]
  },
  {
   "cell_type": "code",
   "execution_count": 9,
   "id": "b349dd5e-c40d-4386-b6b6-a7ba9f939608",
   "metadata": {},
   "outputs": [
    {
     "name": "stdout",
     "output_type": "stream",
     "text": [
      "[20 30 40]\n",
      "[10 30 50]\n",
      "[10 20 30 40 50]\n",
      "[]\n",
      "[10 20 30 40 50]\n"
     ]
    }
   ],
   "source": [
    "#slicing\n",
    "print(arr[1:4])\n",
    "print(arr[::2])\n",
    "print(arr[:7])\n",
    "print(arr[-1:-4])\n",
    "print(arr[:])"
   ]
  },
  {
   "cell_type": "code",
   "execution_count": 13,
   "id": "514a3711-7bc1-4b6b-abc4-724b1d0fafac",
   "metadata": {},
   "outputs": [
    {
     "name": "stdout",
     "output_type": "stream",
     "text": [
      "2\n",
      "[2 5 8]\n",
      "[4 5 6]\n",
      "[7 8]\n"
     ]
    }
   ],
   "source": [
    "#2D indexing\n",
    "matrix = np.array([\n",
    "    [1, 2, 3],\n",
    "    [4, 5, 6],\n",
    "    [7, 8, 9]\n",
    "])\n",
    "\n",
    "print(matrix[0, 1])\n",
    "print(matrix[:, 1])\n",
    "print(matrix[1, :])\n",
    "print(matrix[2, 0:2])"
   ]
  },
  {
   "cell_type": "code",
   "execution_count": 18,
   "id": "24878e3c-769b-47b2-8f07-8a8d8e2e61a0",
   "metadata": {},
   "outputs": [
    {
     "name": "stdout",
     "output_type": "stream",
     "text": [
      "Original array: [ 1  2  3  4  5  6  7  8  9 10 11 12]\n",
      "Reshaped array: [[ 1  2  3  4  5  6]\n",
      " [ 7  8  9 10 11 12]]\n",
      "Flatten: [ 1  2  3  4  5  6  7  8  9 10 11 12]\n"
     ]
    }
   ],
   "source": [
    "#changing 1D array to 2D array\n",
    "arr2 = np.arange(1, 13)\n",
    "reshape = arr2.reshape(2, 6)\n",
    "\n",
    "print(\"Original array:\", arr2)\n",
    "print(\"Reshaped array:\", reshape)\n",
    "\n",
    "#flatten to 1d array\n",
    "flatten = reshape.flatten()\n",
    "print(\"Flatten:\", flatten)"
   ]
  },
  {
   "cell_type": "code",
   "execution_count": 21,
   "id": "aac42a73-ee89-4a35-b6ee-fc4a2391f3e3",
   "metadata": {},
   "outputs": [
    {
     "name": "stdout",
     "output_type": "stream",
     "text": [
      "[11 22 33 44 55]\n",
      "[ -9 -18 -27 -36 -45]\n",
      "[ 10  40  90 160 250]\n",
      "[0.1 0.1 0.1 0.1 0.1]\n",
      "Scelar operator\n",
      "\n",
      "[ 100  400  900 1600 2500]\n",
      "[ 5. 10. 15. 20. 25.]\n"
     ]
    }
   ],
   "source": [
    "#working with mathematical operation on array\n",
    "arr3 = np.array([1, 2, 3, 4, 5])\n",
    "arr4 = np.array([10, 20, 30, 40, 50])\n",
    "\n",
    "#basic math operators\n",
    "print(arr3 + arr4)\n",
    "print(arr3 - arr4)\n",
    "print(arr3 * arr4)\n",
    "print(arr3 / arr4)\n",
    "\n",
    "#scaler operator\n",
    "print(\"Scelar operator\\n\")\n",
    "print(arr4**2)\n",
    "print(arr4 / 2)"
   ]
  },
  {
   "cell_type": "code",
   "execution_count": 24,
   "id": "439895f4-f0f3-41dd-893e-d4b1058c837d",
   "metadata": {},
   "outputs": [
    {
     "name": "stdout",
     "output_type": "stream",
     "text": [
      "[[19 22]\n",
      " [43 50]]\n",
      "[[ 5 12]\n",
      " [21 32]]\n"
     ]
    }
   ],
   "source": [
    "#working with matrix element using (dot product)\n",
    "matrix_1 = np.array([\n",
    "    [1, 2],\n",
    "    [3, 4]\n",
    "])\n",
    "\n",
    "matrix_2 = np.array([\n",
    "    [5, 6],\n",
    "    [7, 8]\n",
    "])\n",
    "\n",
    "dot = np.dot(matrix_1, matrix_2)\n",
    "print(dot)\n",
    "\n",
    "multiply = matrix_1 * matrix_2\n",
    "print(multiply)"
   ]
  },
  {
   "cell_type": "code",
   "execution_count": null,
   "id": "9fd6c119-8756-46bf-97ea-dbfcffb79c0b",
   "metadata": {},
   "outputs": [],
   "source": []
  }
 ],
 "metadata": {
  "kernelspec": {
   "display_name": "Python 3 (ipykernel)",
   "language": "python",
   "name": "python3"
  },
  "language_info": {
   "codemirror_mode": {
    "name": "ipython",
    "version": 3
   },
   "file_extension": ".py",
   "mimetype": "text/x-python",
   "name": "python",
   "nbconvert_exporter": "python",
   "pygments_lexer": "ipython3",
   "version": "3.10.9"
  }
 },
 "nbformat": 4,
 "nbformat_minor": 5
}
