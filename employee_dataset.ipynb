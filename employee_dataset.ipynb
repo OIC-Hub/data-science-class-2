{
 "cells": [
  {
   "cell_type": "code",
   "execution_count": 1,
   "id": "a50c171b-6584-49fc-932c-18c3f9cbf468",
   "metadata": {},
   "outputs": [],
   "source": [
    "#import libraries\n",
    "import pandas as pd"
   ]
  },
  {
   "cell_type": "code",
   "execution_count": 3,
   "id": "6aaf9977-11ed-40ac-b4ac-3ab2193b74d4",
   "metadata": {},
   "outputs": [
    {
     "data": {
      "text/html": [
       "<div>\n",
       "<style scoped>\n",
       "    .dataframe tbody tr th:only-of-type {\n",
       "        vertical-align: middle;\n",
       "    }\n",
       "\n",
       "    .dataframe tbody tr th {\n",
       "        vertical-align: top;\n",
       "    }\n",
       "\n",
       "    .dataframe thead th {\n",
       "        text-align: right;\n",
       "    }\n",
       "</style>\n",
       "<table border=\"1\" class=\"dataframe\">\n",
       "  <thead>\n",
       "    <tr style=\"text-align: right;\">\n",
       "      <th></th>\n",
       "      <th>EmpID</th>\n",
       "      <th>fullName</th>\n",
       "      <th>Dept</th>\n",
       "      <th>Age</th>\n",
       "      <th>Salary($)</th>\n",
       "      <th>JoinDate</th>\n",
       "      <th>Performance</th>\n",
       "      <th>Remote?</th>\n",
       "    </tr>\n",
       "  </thead>\n",
       "  <tbody>\n",
       "    <tr>\n",
       "      <th>0</th>\n",
       "      <td>101</td>\n",
       "      <td>Alice Johnson</td>\n",
       "      <td>IT</td>\n",
       "      <td>29</td>\n",
       "      <td>$5500.50</td>\n",
       "      <td>2021/04/12</td>\n",
       "      <td>87</td>\n",
       "      <td>Yes</td>\n",
       "    </tr>\n",
       "    <tr>\n",
       "      <th>1</th>\n",
       "      <td>102</td>\n",
       "      <td>MICHEAL smith</td>\n",
       "      <td>hr</td>\n",
       "      <td>thirty-five</td>\n",
       "      <td>4800</td>\n",
       "      <td>2020-11-01</td>\n",
       "      <td>73</td>\n",
       "      <td>No</td>\n",
       "    </tr>\n",
       "    <tr>\n",
       "      <th>2</th>\n",
       "      <td>103</td>\n",
       "      <td>sarah lee</td>\n",
       "      <td>Mktng</td>\n",
       "      <td>26</td>\n",
       "      <td>4200.75</td>\n",
       "      <td>18-01-2022</td>\n",
       "      <td>90</td>\n",
       "      <td>Y</td>\n",
       "    </tr>\n",
       "    <tr>\n",
       "      <th>3</th>\n",
       "      <td>104</td>\n",
       "      <td>David-Kim</td>\n",
       "      <td>IT</td>\n",
       "      <td>31</td>\n",
       "      <td>NaN</td>\n",
       "      <td>2019/9/25</td>\n",
       "      <td>65</td>\n",
       "      <td>N</td>\n",
       "    </tr>\n",
       "    <tr>\n",
       "      <th>4</th>\n",
       "      <td>105</td>\n",
       "      <td>None</td>\n",
       "      <td>finance</td>\n",
       "      <td>42</td>\n",
       "      <td>6100</td>\n",
       "      <td>July 5, 2018</td>\n",
       "      <td>82</td>\n",
       "      <td>yes</td>\n",
       "    </tr>\n",
       "    <tr>\n",
       "      <th>5</th>\n",
       "      <td>106</td>\n",
       "      <td>john brown</td>\n",
       "      <td>marketing</td>\n",
       "      <td>27</td>\n",
       "      <td>4,300</td>\n",
       "      <td>2021/10/14</td>\n",
       "      <td>75</td>\n",
       "      <td>no</td>\n",
       "    </tr>\n",
       "    <tr>\n",
       "      <th>6</th>\n",
       "      <td>None</td>\n",
       "      <td>Emma Wilson</td>\n",
       "      <td>Finance</td>\n",
       "      <td>33</td>\n",
       "      <td>5800</td>\n",
       "      <td>2019.12.01</td>\n",
       "      <td>88</td>\n",
       "      <td>Y</td>\n",
       "    </tr>\n",
       "    <tr>\n",
       "      <th>7</th>\n",
       "      <td>108</td>\n",
       "      <td>TOM  davis</td>\n",
       "      <td>None</td>\n",
       "      <td>30</td>\n",
       "      <td>5000</td>\n",
       "      <td>March 22 2020</td>\n",
       "      <td>None</td>\n",
       "      <td>Yes</td>\n",
       "    </tr>\n",
       "    <tr>\n",
       "      <th>8</th>\n",
       "      <td>109</td>\n",
       "      <td>Jane Miller</td>\n",
       "      <td>HR</td>\n",
       "      <td>None</td>\n",
       "      <td>4700.0</td>\n",
       "      <td>2021-05-10</td>\n",
       "      <td>79%</td>\n",
       "      <td>None</td>\n",
       "    </tr>\n",
       "    <tr>\n",
       "      <th>9</th>\n",
       "      <td>110</td>\n",
       "      <td>Chris taylor</td>\n",
       "      <td>marketing</td>\n",
       "      <td>28</td>\n",
       "      <td>4400</td>\n",
       "      <td>Feb-05-2022</td>\n",
       "      <td>91</td>\n",
       "      <td>True</td>\n",
       "    </tr>\n",
       "  </tbody>\n",
       "</table>\n",
       "</div>"
      ],
      "text/plain": [
       "  EmpID         fullName       Dept          Age Salary($)       JoinDate  \\\n",
       "0   101   Alice Johnson          IT           29  $5500.50     2021/04/12   \n",
       "1   102    MICHEAL smith         hr  thirty-five      4800     2020-11-01   \n",
       "2   103        sarah lee      Mktng           26   4200.75     18-01-2022   \n",
       "3   104        David-Kim         IT           31       NaN      2019/9/25   \n",
       "4   105             None    finance           42      6100   July 5, 2018   \n",
       "5   106       john brown  marketing           27     4,300     2021/10/14   \n",
       "6  None      Emma Wilson    Finance           33      5800     2019.12.01   \n",
       "7   108       TOM  davis       None           30      5000  March 22 2020   \n",
       "8   109      Jane Miller         HR         None    4700.0     2021-05-10   \n",
       "9   110     Chris taylor  marketing           28      4400    Feb-05-2022   \n",
       "\n",
       "  Performance Remote?  \n",
       "0          87     Yes  \n",
       "1          73      No  \n",
       "2          90       Y  \n",
       "3          65       N  \n",
       "4          82     yes  \n",
       "5          75      no  \n",
       "6          88       Y  \n",
       "7        None     Yes  \n",
       "8         79%    None  \n",
       "9          91    True  "
      ]
     },
     "execution_count": 3,
     "metadata": {},
     "output_type": "execute_result"
    }
   ],
   "source": [
    "#our messy sample dataset\n",
    "data = {\n",
    "    \"EmpID\": [101, 102, \"103\", 104, 105, 106, None, 108, 109, 110],\n",
    "    \"fullName\": [\n",
    "        \" Alice Johnson \", \"MICHEAL smith\", \"sarah lee\", \"David-Kim\", None, \"john brown\", \n",
    "        \"Emma Wilson\", \"TOM  davis\", \"Jane Miller\", \"Chris taylor\"\n",
    "    ],\n",
    "    \"Dept\": [\"IT\", \"hr\", \"Mktng\", \"IT\", \"finance\", \"marketing\", \"Finance\", None, \"HR\", \"marketing\"],\n",
    "    \"Age\": [29, \"thirty-five\", 26, 31, 42, 27, 33, 30, None, 28],\n",
    "    \"Salary($)\": [\"$5500.50\", \"4800\", \"4200.75\", \"NaN\", \"6100\", \"4,300\", \"5800\", \"5000\", \"4700.0\", \"4400\"],\n",
    "    \"JoinDate\": [\n",
    "        \"2021/04/12\", \"2020-11-01\", \"18-01-2022\", \"2019/9/25\", \"July 5, 2018\", \n",
    "        \"2021/10/14\", \"2019.12.01\", \"March 22 2020\", \"2021-05-10\", \"Feb-05-2022\"\n",
    "    ],\n",
    "    \"Performance\": [87, \"73\", 90, 65, 82, 75, 88, None, \"79%\", \"91\"],\n",
    "    \"Remote?\": [\"Yes\", \"No\", \"Y\", \"N\", \"yes\", \"no\", \"Y\", \"Yes\", None, \"True\"]\n",
    "}\n",
    "\n",
    "#create the dataframe\n",
    "df = pd.DataFrame(data)\n",
    "\n",
    "#display dataframe\n",
    "df"
   ]
  },
  {
   "cell_type": "code",
   "execution_count": 4,
   "id": "c6b77ed6-97d9-4028-99ac-4fb46f8e53c8",
   "metadata": {},
   "outputs": [
    {
     "data": {
      "text/plain": [
       "(10, 8)"
      ]
     },
     "execution_count": 4,
     "metadata": {},
     "output_type": "execute_result"
    }
   ],
   "source": [
    "#get the shapes of the data\n",
    "df.shape"
   ]
  },
  {
   "cell_type": "code",
   "execution_count": 5,
   "id": "5b148f39-3105-436d-9762-9f15fde2b5c3",
   "metadata": {},
   "outputs": [
    {
     "name": "stdout",
     "output_type": "stream",
     "text": [
      "<class 'pandas.core.frame.DataFrame'>\n",
      "RangeIndex: 10 entries, 0 to 9\n",
      "Data columns (total 8 columns):\n",
      " #   Column       Non-Null Count  Dtype \n",
      "---  ------       --------------  ----- \n",
      " 0   EmpID        9 non-null      object\n",
      " 1   fullName     9 non-null      object\n",
      " 2   Dept         9 non-null      object\n",
      " 3   Age          9 non-null      object\n",
      " 4   Salary($)    10 non-null     object\n",
      " 5   JoinDate     10 non-null     object\n",
      " 6   Performance  9 non-null      object\n",
      " 7   Remote?      9 non-null      object\n",
      "dtypes: object(8)\n",
      "memory usage: 768.0+ bytes\n"
     ]
    }
   ],
   "source": [
    "#infomation of the dataset\n",
    "df.info()"
   ]
  },
  {
   "cell_type": "code",
   "execution_count": 9,
   "id": "09f3c1dd-a84d-46b2-b8bb-950ac1942881",
   "metadata": {},
   "outputs": [
    {
     "data": {
      "text/html": [
       "<div>\n",
       "<style scoped>\n",
       "    .dataframe tbody tr th:only-of-type {\n",
       "        vertical-align: middle;\n",
       "    }\n",
       "\n",
       "    .dataframe tbody tr th {\n",
       "        vertical-align: top;\n",
       "    }\n",
       "\n",
       "    .dataframe thead th {\n",
       "        text-align: right;\n",
       "    }\n",
       "</style>\n",
       "<table border=\"1\" class=\"dataframe\">\n",
       "  <thead>\n",
       "    <tr style=\"text-align: right;\">\n",
       "      <th></th>\n",
       "      <th>EmpID</th>\n",
       "      <th>fullName</th>\n",
       "      <th>Dept</th>\n",
       "      <th>Age</th>\n",
       "      <th>Salary($)</th>\n",
       "      <th>JoinDate</th>\n",
       "      <th>Performance</th>\n",
       "      <th>Remote?</th>\n",
       "    </tr>\n",
       "  </thead>\n",
       "  <tbody>\n",
       "    <tr>\n",
       "      <th>0</th>\n",
       "      <td>101</td>\n",
       "      <td>Alice Johnson</td>\n",
       "      <td>IT</td>\n",
       "      <td>29</td>\n",
       "      <td>$5500.50</td>\n",
       "      <td>2021/04/12</td>\n",
       "      <td>87</td>\n",
       "      <td>Yes</td>\n",
       "    </tr>\n",
       "    <tr>\n",
       "      <th>1</th>\n",
       "      <td>102</td>\n",
       "      <td>MICHEAL smith</td>\n",
       "      <td>hr</td>\n",
       "      <td>thirty-five</td>\n",
       "      <td>4800</td>\n",
       "      <td>2020-11-01</td>\n",
       "      <td>73</td>\n",
       "      <td>No</td>\n",
       "    </tr>\n",
       "    <tr>\n",
       "      <th>2</th>\n",
       "      <td>103</td>\n",
       "      <td>sarah lee</td>\n",
       "      <td>Mktng</td>\n",
       "      <td>26</td>\n",
       "      <td>4200.75</td>\n",
       "      <td>18-01-2022</td>\n",
       "      <td>90</td>\n",
       "      <td>Y</td>\n",
       "    </tr>\n",
       "    <tr>\n",
       "      <th>3</th>\n",
       "      <td>104</td>\n",
       "      <td>David-Kim</td>\n",
       "      <td>IT</td>\n",
       "      <td>31</td>\n",
       "      <td>NaN</td>\n",
       "      <td>2019/9/25</td>\n",
       "      <td>65</td>\n",
       "      <td>N</td>\n",
       "    </tr>\n",
       "    <tr>\n",
       "      <th>4</th>\n",
       "      <td>105</td>\n",
       "      <td>None</td>\n",
       "      <td>finance</td>\n",
       "      <td>42</td>\n",
       "      <td>6100</td>\n",
       "      <td>July 5, 2018</td>\n",
       "      <td>82</td>\n",
       "      <td>yes</td>\n",
       "    </tr>\n",
       "  </tbody>\n",
       "</table>\n",
       "</div>"
      ],
      "text/plain": [
       "  EmpID         fullName     Dept          Age Salary($)      JoinDate  \\\n",
       "0   101   Alice Johnson        IT           29  $5500.50    2021/04/12   \n",
       "1   102    MICHEAL smith       hr  thirty-five      4800    2020-11-01   \n",
       "2   103        sarah lee    Mktng           26   4200.75    18-01-2022   \n",
       "3   104        David-Kim       IT           31       NaN     2019/9/25   \n",
       "4   105             None  finance           42      6100  July 5, 2018   \n",
       "\n",
       "  Performance Remote?  \n",
       "0          87     Yes  \n",
       "1          73      No  \n",
       "2          90       Y  \n",
       "3          65       N  \n",
       "4          82     yes  "
      ]
     },
     "execution_count": 9,
     "metadata": {},
     "output_type": "execute_result"
    }
   ],
   "source": [
    "#get the first five rows of the dataset\n",
    "df.head()"
   ]
  },
  {
   "cell_type": "code",
   "execution_count": 10,
   "id": "0b47155f-b638-491c-9ced-c626053ca836",
   "metadata": {},
   "outputs": [
    {
     "data": {
      "text/plain": [
       "Index(['EmpID', 'fullName', 'Dept', 'Age', 'Salary($)', 'JoinDate',\n",
       "       'Performance', 'Remote?'],\n",
       "      dtype='object')"
      ]
     },
     "execution_count": 10,
     "metadata": {},
     "output_type": "execute_result"
    }
   ],
   "source": [
    "#get the columns names\n",
    "df.columns"
   ]
  },
  {
   "cell_type": "code",
   "execution_count": 12,
   "id": "c2688bfd-3f8c-4384-a281-b15177a936d8",
   "metadata": {},
   "outputs": [
    {
     "data": {
      "text/plain": [
       "EmpID          1\n",
       "fullName       1\n",
       "Dept           1\n",
       "Age            1\n",
       "Salary($)      0\n",
       "JoinDate       0\n",
       "Performance    1\n",
       "Remote?        1\n",
       "dtype: int64"
      ]
     },
     "execution_count": 12,
     "metadata": {},
     "output_type": "execute_result"
    }
   ],
   "source": [
    "df.isnull().sum()"
   ]
  },
  {
   "cell_type": "code",
   "execution_count": 14,
   "id": "0113e7c3-4d42-4aef-b498-7b19eea6f1d6",
   "metadata": {},
   "outputs": [
    {
     "name": "stdout",
     "output_type": "stream",
     "text": [
      "['IT' 'hr' 'Mktng' 'finance' 'marketing' 'Finance' None 'HR']\n",
      "['Yes' 'No' 'Y' 'N' 'yes' 'no' None 'True']\n",
      "[29 'thirty-five' 26 31 42 27 33 30 None 28]\n"
     ]
    }
   ],
   "source": [
    "#inspect the dataset\n",
    "print(df[\"Dept\"].unique())\n",
    "print(df[\"Remote?\"].unique())\n",
    "print(df[\"Age\"].unique())"
   ]
  },
  {
   "cell_type": "code",
   "execution_count": 15,
   "id": "53771557-677f-49a8-b850-377dd71d7c38",
   "metadata": {},
   "outputs": [
    {
     "data": {
      "text/plain": [
       "0    $5500.50\n",
       "1        4800\n",
       "2     4200.75\n",
       "3         NaN\n",
       "4        6100\n",
       "5       4,300\n",
       "6        5800\n",
       "7        5000\n",
       "8      4700.0\n",
       "9        4400\n",
       "Name: Salary($), dtype: object"
      ]
     },
     "execution_count": 15,
     "metadata": {},
     "output_type": "execute_result"
    }
   ],
   "source": [
    "#inspect salary column\n",
    "df[\"Salary($)\"].head(10)"
   ]
  },
  {
   "cell_type": "code",
   "execution_count": 16,
   "id": "714bb2a3-77f7-4c14-8700-e2afad4d356e",
   "metadata": {},
   "outputs": [
    {
     "data": {
      "text/plain": [
       "['2021/04/12',\n",
       " '2020-11-01',\n",
       " '18-01-2022',\n",
       " '2019/9/25',\n",
       " 'July 5, 2018',\n",
       " '2021/10/14',\n",
       " '2019.12.01',\n",
       " 'March 22 2020',\n",
       " '2021-05-10',\n",
       " 'Feb-05-2022']"
      ]
     },
     "execution_count": 16,
     "metadata": {},
     "output_type": "execute_result"
    }
   ],
   "source": [
    "#inspect for JoinDate column\n",
    "df[\"JoinDate\"].tolist()"
   ]
  },
  {
   "cell_type": "code",
   "execution_count": 19,
   "id": "4aa053ed-e526-4955-9f04-098a54fad0b3",
   "metadata": {},
   "outputs": [
    {
     "data": {
      "text/plain": [
       "[87, '73', 90, 65, 82, 75, 88, None, '79%', '91']"
      ]
     },
     "execution_count": 19,
     "metadata": {},
     "output_type": "execute_result"
    }
   ],
   "source": [
    "#inspect for EmpID, fullName, and performance\n",
    "df[\"Performance\"].tolist()"
   ]
  },
  {
   "cell_type": "code",
   "execution_count": 20,
   "id": "5989f4fe-475e-4c3b-9d97-dd60fae7ba68",
   "metadata": {},
   "outputs": [
    {
     "data": {
      "text/plain": [
       "[' Alice Johnson ',\n",
       " 'MICHEAL smith',\n",
       " 'sarah lee',\n",
       " 'David-Kim',\n",
       " None,\n",
       " 'john brown',\n",
       " 'Emma Wilson',\n",
       " 'TOM  davis',\n",
       " 'Jane Miller',\n",
       " 'Chris taylor']"
      ]
     },
     "execution_count": 20,
     "metadata": {},
     "output_type": "execute_result"
    }
   ],
   "source": [
    "df[\"fullName\"].tolist()"
   ]
  },
  {
   "cell_type": "code",
   "execution_count": 21,
   "id": "22cfb20b-eedc-4c09-9aa1-06da58d8fd05",
   "metadata": {},
   "outputs": [
    {
     "data": {
      "text/plain": [
       "[101, 102, '103', 104, 105, 106, None, 108, 109, 110]"
      ]
     },
     "execution_count": 21,
     "metadata": {},
     "output_type": "execute_result"
    }
   ],
   "source": [
    "df[\"EmpID\"].tolist()"
   ]
  },
  {
   "cell_type": "code",
   "execution_count": 24,
   "id": "1238036f-9d7d-4132-9036-b1ca3dbab873",
   "metadata": {},
   "outputs": [
    {
     "data": {
      "text/html": [
       "<div>\n",
       "<style scoped>\n",
       "    .dataframe tbody tr th:only-of-type {\n",
       "        vertical-align: middle;\n",
       "    }\n",
       "\n",
       "    .dataframe tbody tr th {\n",
       "        vertical-align: top;\n",
       "    }\n",
       "\n",
       "    .dataframe thead th {\n",
       "        text-align: right;\n",
       "    }\n",
       "</style>\n",
       "<table border=\"1\" class=\"dataframe\">\n",
       "  <thead>\n",
       "    <tr style=\"text-align: right;\">\n",
       "      <th></th>\n",
       "      <th>emp_id</th>\n",
       "      <th>full_name</th>\n",
       "      <th>department</th>\n",
       "      <th>age</th>\n",
       "      <th>salary</th>\n",
       "      <th>join_date</th>\n",
       "      <th>performance</th>\n",
       "      <th>remote</th>\n",
       "    </tr>\n",
       "  </thead>\n",
       "  <tbody>\n",
       "    <tr>\n",
       "      <th>0</th>\n",
       "      <td>101</td>\n",
       "      <td>Alice Johnson</td>\n",
       "      <td>IT</td>\n",
       "      <td>29</td>\n",
       "      <td>$5500.50</td>\n",
       "      <td>2021/04/12</td>\n",
       "      <td>87</td>\n",
       "      <td>Yes</td>\n",
       "    </tr>\n",
       "    <tr>\n",
       "      <th>1</th>\n",
       "      <td>102</td>\n",
       "      <td>MICHEAL smith</td>\n",
       "      <td>hr</td>\n",
       "      <td>thirty-five</td>\n",
       "      <td>4800</td>\n",
       "      <td>2020-11-01</td>\n",
       "      <td>73</td>\n",
       "      <td>No</td>\n",
       "    </tr>\n",
       "    <tr>\n",
       "      <th>2</th>\n",
       "      <td>103</td>\n",
       "      <td>sarah lee</td>\n",
       "      <td>Mktng</td>\n",
       "      <td>26</td>\n",
       "      <td>4200.75</td>\n",
       "      <td>18-01-2022</td>\n",
       "      <td>90</td>\n",
       "      <td>Y</td>\n",
       "    </tr>\n",
       "    <tr>\n",
       "      <th>3</th>\n",
       "      <td>104</td>\n",
       "      <td>David-Kim</td>\n",
       "      <td>IT</td>\n",
       "      <td>31</td>\n",
       "      <td>NaN</td>\n",
       "      <td>2019/9/25</td>\n",
       "      <td>65</td>\n",
       "      <td>N</td>\n",
       "    </tr>\n",
       "    <tr>\n",
       "      <th>4</th>\n",
       "      <td>105</td>\n",
       "      <td>None</td>\n",
       "      <td>finance</td>\n",
       "      <td>42</td>\n",
       "      <td>6100</td>\n",
       "      <td>July 5, 2018</td>\n",
       "      <td>82</td>\n",
       "      <td>yes</td>\n",
       "    </tr>\n",
       "    <tr>\n",
       "      <th>5</th>\n",
       "      <td>106</td>\n",
       "      <td>john brown</td>\n",
       "      <td>marketing</td>\n",
       "      <td>27</td>\n",
       "      <td>4,300</td>\n",
       "      <td>2021/10/14</td>\n",
       "      <td>75</td>\n",
       "      <td>no</td>\n",
       "    </tr>\n",
       "    <tr>\n",
       "      <th>6</th>\n",
       "      <td>None</td>\n",
       "      <td>Emma Wilson</td>\n",
       "      <td>Finance</td>\n",
       "      <td>33</td>\n",
       "      <td>5800</td>\n",
       "      <td>2019.12.01</td>\n",
       "      <td>88</td>\n",
       "      <td>Y</td>\n",
       "    </tr>\n",
       "    <tr>\n",
       "      <th>7</th>\n",
       "      <td>108</td>\n",
       "      <td>TOM  davis</td>\n",
       "      <td>None</td>\n",
       "      <td>30</td>\n",
       "      <td>5000</td>\n",
       "      <td>March 22 2020</td>\n",
       "      <td>None</td>\n",
       "      <td>Yes</td>\n",
       "    </tr>\n",
       "    <tr>\n",
       "      <th>8</th>\n",
       "      <td>109</td>\n",
       "      <td>Jane Miller</td>\n",
       "      <td>HR</td>\n",
       "      <td>None</td>\n",
       "      <td>4700.0</td>\n",
       "      <td>2021-05-10</td>\n",
       "      <td>79%</td>\n",
       "      <td>None</td>\n",
       "    </tr>\n",
       "    <tr>\n",
       "      <th>9</th>\n",
       "      <td>110</td>\n",
       "      <td>Chris taylor</td>\n",
       "      <td>marketing</td>\n",
       "      <td>28</td>\n",
       "      <td>4400</td>\n",
       "      <td>Feb-05-2022</td>\n",
       "      <td>91</td>\n",
       "      <td>True</td>\n",
       "    </tr>\n",
       "  </tbody>\n",
       "</table>\n",
       "</div>"
      ],
      "text/plain": [
       "  emp_id        full_name department          age    salary      join_date  \\\n",
       "0    101   Alice Johnson          IT           29  $5500.50     2021/04/12   \n",
       "1    102    MICHEAL smith         hr  thirty-five      4800     2020-11-01   \n",
       "2    103        sarah lee      Mktng           26   4200.75     18-01-2022   \n",
       "3    104        David-Kim         IT           31       NaN      2019/9/25   \n",
       "4    105             None    finance           42      6100   July 5, 2018   \n",
       "5    106       john brown  marketing           27     4,300     2021/10/14   \n",
       "6   None      Emma Wilson    Finance           33      5800     2019.12.01   \n",
       "7    108       TOM  davis       None           30      5000  March 22 2020   \n",
       "8    109      Jane Miller         HR         None    4700.0     2021-05-10   \n",
       "9    110     Chris taylor  marketing           28      4400    Feb-05-2022   \n",
       "\n",
       "  performance remote  \n",
       "0          87    Yes  \n",
       "1          73     No  \n",
       "2          90      Y  \n",
       "3          65      N  \n",
       "4          82    yes  \n",
       "5          75     no  \n",
       "6          88      Y  \n",
       "7        None    Yes  \n",
       "8         79%   None  \n",
       "9          91   True  "
      ]
     },
     "execution_count": 24,
     "metadata": {},
     "output_type": "execute_result"
    }
   ],
   "source": [
    "#start cleaning the dataset\n",
    "#rename columns heads\n",
    "df.rename(columns={\n",
    "    \"EmpID\": \"emp_id\",\n",
    "    \"fullName\": \"full_name\",\n",
    "    \"Dept\": \"department\",\n",
    "    \"Age\": \"age\",\n",
    "    \"Salary($)\": \"salary\",\n",
    "    \"JoinDate\": \"join_date\",\n",
    "    \"Performance\": \"performance\",\n",
    "    \"Remote?\": \"remote\"\n",
    "}, inplace=True)\n",
    "\n",
    "df"
   ]
  },
  {
   "cell_type": "code",
   "execution_count": 25,
   "id": "57acfe77-c877-4202-b189-e325bec2fcb5",
   "metadata": {},
   "outputs": [
    {
     "data": {
      "text/plain": [
       "0    Alice Johnson\n",
       "1    Micheal Smith\n",
       "2        Sarah Lee\n",
       "3        David Kim\n",
       "4             None\n",
       "5       John Brown\n",
       "6      Emma Wilson\n",
       "7        Tom Davis\n",
       "8      Jane Miller\n",
       "9     Chris Taylor\n",
       "Name: full_name, dtype: object"
      ]
     },
     "execution_count": 25,
     "metadata": {},
     "output_type": "execute_result"
    }
   ],
   "source": [
    "#cleaning inconsistent values on fullname\n",
    "df[\"full_name\"] = df[\"full_name\"].str.strip()\n",
    "df[\"full_name\"] = df[\"full_name\"].str.title()\n",
    "df[\"full_name\"] = df[\"full_name\"].str.replace(r\"\\s+\", \" \", regex=True)\n",
    "df[\"full_name\"] = df[\"full_name\"].str.replace(\"-\", \" \")\n",
    "\n",
    "df[\"full_name\"]"
   ]
  },
  {
   "cell_type": "code",
   "execution_count": null,
   "id": "6291ebea-c0df-4c52-81bb-31a2f86123ae",
   "metadata": {},
   "outputs": [],
   "source": []
  }
 ],
 "metadata": {
  "kernelspec": {
   "display_name": "Python 3 (ipykernel)",
   "language": "python",
   "name": "python3"
  },
  "language_info": {
   "codemirror_mode": {
    "name": "ipython",
    "version": 3
   },
   "file_extension": ".py",
   "mimetype": "text/x-python",
   "name": "python",
   "nbconvert_exporter": "python",
   "pygments_lexer": "ipython3",
   "version": "3.10.9"
  }
 },
 "nbformat": 4,
 "nbformat_minor": 5
}
